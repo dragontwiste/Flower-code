{
 "cells": [
  {
   "cell_type": "code",
   "execution_count": null,
   "id": "29182b82",
   "metadata": {},
   "outputs": [
    {
     "name": "stderr",
     "output_type": "stream",
     "text": [
      "/u001b[93mWARNING /u001b[0m:   DEPRECATED FEATURE: flwr.client.start_client() is deprecated./n",
      "/tInstead, use the `flower-supernode` CLI command to start a SuperNode as shown below:/n",
      "/n",
      "/t/t$ flower-supernode --insecure --superlink='<IP>:<PORT>'/n",
      "/n",
      "/tTo view all available options, run:/n",
      "/n",
      "/t/t$ flower-supernode --help/n",
      "/n",
      "/tUsing `start_client()` is deprecated./n",
      "/n",
      "            This is a deprecated feature. It will be removed/n",
      "            entirely in future versions of Flower./n",
      "        /n",
      "/u001b[92mINFO /u001b[0m:      /n",
      "/u001b[92mINFO /u001b[0m:      Received: train message 448aa256-1493-4a7b-8112-1e179a95dafd/n"
     ]
    },
    {
     "name": "stdout",
     "output_type": "stream",
     "text": [
      "🚀 Training CBIS-DDSM client 0/n",
      "New https://pypi.org/project/ultralytics/8.3.108 available  Update with 'pip install -U ultralytics'/n",
      "Ultralytics 8.3.107  Python-3.11.9 torch-2.6.0+cu126 CUDA:0 (NVIDIA GeForce GTX 1660 SUPER, 6144MiB)/n",
      "/u001b[34m/u001b[1mengine//trainer: /u001b[0mtask=detect, mode=train, model=E://PFE//Flower code//yolo models//yolo11m_mass.pt, data=E://PFE//Flower code//data created//client_cbis_ddsm0//cbis_ddsm.yaml, epochs=1, time=None, patience=100, batch=1, imgsz=640, save=True, save_period=-1, cache=False, device=cuda, workers=0, project=None, name=train54, exist_ok=False, pretrained=True, optimizer=auto, verbose=False, seed=0, deterministic=True, single_cls=False, rect=False, cos_lr=False, close_mosaic=10, resume=False, amp=True, fraction=1.0, profile=False, freeze=None, multi_scale=False, overlap_mask=True, mask_ratio=4, dropout=0.0, val=True, split=val, save_json=False, conf=None, iou=0.7, max_det=300, half=False, dnn=False, plots=True, source=None, vid_stride=1, stream_buffer=False, visualize=False, augment=False, agnostic_nms=False, classes=None, retina_masks=False, embed=None, show=False, save_frames=False, save_txt=False, save_conf=False, save_crop=False, show_labels=True, show_conf=True, show_boxes=True, line_width=None, format=torchscript, keras=False, optimize=False, int8=False, dynamic=False, simplify=True, opset=None, workspace=None, nms=False, lr0=0.01, lrf=0.01, momentum=0.937, weight_decay=0.0005, warmup_epochs=3.0, warmup_momentum=0.8, warmup_bias_lr=0.1, box=7.5, cls=0.5, dfl=1.5, pose=12.0, kobj=1.0, nbs=64, hsv_h=0.015, hsv_s=0.7, hsv_v=0.4, degrees=0.0, translate=0.1, scale=0.5, shear=0.0, perspective=0.0, flipud=0.0, fliplr=0.5, bgr=0.0, mosaic=1.0, mixup=0.0, copy_paste=0.0, copy_paste_mode=flip, auto_augment=randaugment, erasing=0.4, crop_fraction=1.0, cfg=None, tracker=botsort.yaml, save_dir=runs//detect//train54/n",
      "/n",
      "                   from  n    params  module                                       arguments                     /n",
      "  0                  -1  1      1856  ultralytics.nn.modules.conv.Conv             [3, 64, 3, 2]                 /n",
      "  1                  -1  1     73984  ultralytics.nn.modules.conv.Conv             [64, 128, 3, 2]               /n",
      "  2                  -1  1    111872  ultralytics.nn.modules.block.C3k2            [128, 256, 1, True, 0.25]     /n",
      "  3                  -1  1    590336  ultralytics.nn.modules.conv.Conv             [256, 256, 3, 2]              /n",
      "  4                  -1  1    444928  ultralytics.nn.modules.block.C3k2            [256, 512, 1, True, 0.25]     /n",
      "  5                  -1  1   2360320  ultralytics.nn.modules.conv.Conv             [512, 512, 3, 2]              /n",
      "  6                  -1  1   1380352  ultralytics.nn.modules.block.C3k2            [512, 512, 1, True]           /n",
      "  7                  -1  1   2360320  ultralytics.nn.modules.conv.Conv             [512, 512, 3, 2]              /n",
      "  8                  -1  1   1380352  ultralytics.nn.modules.block.C3k2            [512, 512, 1, True]           /n",
      "  9                  -1  1    656896  ultralytics.nn.modules.block.SPPF            [512, 512, 5]                 /n",
      " 10                  -1  1    990976  ultralytics.nn.modules.block.C2PSA           [512, 512, 1]                 /n",
      " 11                  -1  1         0  torch.nn.modules.upsampling.Upsample         [None, 2, 'nearest']          /n",
      " 12             [-1, 6]  1         0  ultralytics.nn.modules.conv.Concat           [1]                           /n",
      " 13                  -1  1   1642496  ultralytics.nn.modules.block.C3k2            [1024, 512, 1, True]          /n",
      " 14                  -1  1         0  torch.nn.modules.upsampling.Upsample         [None, 2, 'nearest']          /n",
      " 15             [-1, 4]  1         0  ultralytics.nn.modules.conv.Concat           [1]                           /n",
      " 16                  -1  1    542720  ultralytics.nn.modules.block.C3k2            [1024, 256, 1, True]          /n",
      " 17                  -1  1    590336  ultralytics.nn.modules.conv.Conv             [256, 256, 3, 2]              /n",
      " 18            [-1, 13]  1         0  ultralytics.nn.modules.conv.Concat           [1]                           /n",
      " 19                  -1  1   1511424  ultralytics.nn.modules.block.C3k2            [768, 512, 1, True]           /n",
      " 20                  -1  1   2360320  ultralytics.nn.modules.conv.Conv             [512, 512, 3, 2]              /n",
      " 21            [-1, 10]  1         0  ultralytics.nn.modules.conv.Concat           [1]                           /n",
      " 22                  -1  1   1642496  ultralytics.nn.modules.block.C3k2            [1024, 512, 1, True]          /n",
      " 23        [16, 19, 22]  1   1412566  ultralytics.nn.modules.head.Detect           [2, [256, 512, 512]]          /n",
      "YOLO11m summary: 231 layers, 20,054,550 parameters, 20,054,534 gradients, 68.2 GFLOPs/n",
      "/n",
      "Transferred 649/649 items from pretrained weights/n",
      "Freezing layer 'model.23.dfl.conv.weight'/n",
      "/u001b[34m/u001b[1mAMP: /u001b[0mchecks failed . AMP training on NVIDIA GeForce GTX 1660 SUPER GPU may cause NaN losses or zero-mAP results, so AMP will be disabled during training./n"
     ]
    },
    {
     "name": "stderr",
     "output_type": "stream",
     "text": [
      "/u001b[34m/u001b[1mtrain: /u001b[0mScanning E://PFE//Flower code//data created//client_cbis_ddsm0//train//labels.cache... 4 images, 0 backgrounds, 0 corrupt: 100%|██████████| 4/4 [00:00<?, ?it/s]/n",
      "/u001b[34m/u001b[1mval: /u001b[0mScanning E://PFE//Flower code//data created//client_cbis_ddsm0//valid//labels.cache... 5 images, 0 backgrounds, 0 corrupt: 100%|██████████| 5/5 [00:00<?, ?it/s]/n"
     ]
    },
    {
     "name": "stdout",
     "output_type": "stream",
     "text": [
      "Plotting labels to runs//detect//train54//labels.jpg... /n",
      "/u001b[34m/u001b[1moptimizer:/u001b[0m 'optimizer=auto' found, ignoring 'lr0=0.01' and 'momentum=0.937' and determining best 'optimizer', 'lr0' and 'momentum' automatically... /n",
      "/u001b[34m/u001b[1moptimizer:/u001b[0m AdamW(lr=0.001667, momentum=0.9) with parameter groups 106 weight(decay=0.0), 113 weight(decay=0.0005), 112 bias(decay=0.0)/n",
      "Image sizes 640 train, 640 val/n",
      "Using 0 dataloader workers/n",
      "Logging results to /u001b[1mruns//detect//train54/u001b[0m/n",
      "Starting training for 1 epochs.../n",
      "/n",
      "      Epoch    GPU_mem   box_loss   cls_loss   dfl_loss  Instances       Size/n"
     ]
    },
    {
     "name": "stderr",
     "output_type": "stream",
     "text": [
      "        1/1      1.36G      2.847      11.64      1.907          1        640: 100%|██████████| 4/4 [01:24<00:00, 21.16s/it]/n",
      "                 Class     Images  Instances      Box(P          R      mAP50  mAP50-95): 100%|██████████| 3/3 [01:09<00:00, 23.24s/it]/n"
     ]
    },
    {
     "name": "stdout",
     "output_type": "stream",
     "text": [
      "                   all          5          5          0          0          0          0/n",
      "/n",
      "1 epochs completed in 0.046 hours./n",
      "Optimizer stripped from runs//detect//train54//weights//last.pt, 40.5MB/n",
      "Optimizer stripped from runs//detect//train54//weights//best.pt, 40.5MB/n",
      "/n",
      "Validating runs//detect//train54//weights//best.pt.../n",
      "Ultralytics 8.3.107  Python-3.11.9 torch-2.6.0+cu126 CUDA:0 (NVIDIA GeForce GTX 1660 SUPER, 6144MiB)/n",
      "YOLO11m summary (fused): 125 layers, 20,031,574 parameters, 0 gradients, 67.7 GFLOPs/n"
     ]
    },
    {
     "name": "stderr",
     "output_type": "stream",
     "text": [
      "                 Class     Images  Instances      Box(P          R      mAP50  mAP50-95): 100%|██████████| 3/3 [02:18<00:00, 46.20s/it]/n"
     ]
    },
    {
     "name": "stdout",
     "output_type": "stream",
     "text": [
      "                   all          5          5          0          0          0          0/n",
      "Speed: 29.3ms preprocess, 26859.5ms inference, 0.0ms loss, 56.3ms postprocess per image/n",
      "Results saved to /u001b[1mruns//detect//train54/u001b[0m/n",
      "Ultralytics 8.3.107  Python-3.11.9 torch-2.6.0+cu126 CUDA:0 (NVIDIA GeForce GTX 1660 SUPER, 6144MiB)/n",
      "YOLO11m summary (fused): 125 layers, 20,031,574 parameters, 0 gradients, 67.7 GFLOPs/n"
     ]
    },
    {
     "name": "stderr",
     "output_type": "stream",
     "text": [
      "/u001b[34m/u001b[1mval: /u001b[0mScanning E://PFE//Flower code//data created//client_cbis_ddsm0//valid//labels.cache... 5 images, 0 backgrounds, 0 corrupt: 100%|██████████| 5/5 [00:00<?, ?it/s]/n",
      "                 Class     Images  Instances      Box(P          R      mAP50  mAP50-95): 100%|██████████| 5/5 [00:02<00:00,  1.72it/s]"
     ]
    },
    {
     "name": "stdout",
     "output_type": "stream",
     "text": [
      "                   all          5          5          0          0          0          0/n",
      "Speed: 3.6ms preprocess, 61.8ms inference, 0.0ms loss, 25.8ms postprocess per image/n",
      "Ultralytics 8.3.107  Python-3.11.9 torch-2.6.0+cu126 CUDA:0 (NVIDIA GeForce GTX 1660 SUPER, 6144MiB)/n"
     ]
    },
    {
     "name": "stderr",
     "output_type": "stream",
     "text": [
      "/n",
      "/u001b[34m/u001b[1mval: /u001b[0mScanning E://PFE//Flower code//data created//client_cbis_ddsm0//train//labels.cache... 4 images, 0 backgrounds, 0 corrupt: 100%|██████████| 4/4 [00:00<?, ?it/s]/n",
      "                 Class     Images  Instances      Box(P          R      mAP50  mAP50-95): 100%|██████████| 4/4 [00:02<00:00,  1.76it/s]"
     ]
    },
    {
     "name": "stdout",
     "output_type": "stream",
     "text": [
      "                   all          4          4          0          0          0          0/n",
      "Speed: 0.9ms preprocess, 38.5ms inference, 0.0ms loss, 5.8ms postprocess per image/n"
     ]
    },
    {
     "name": "stderr",
     "output_type": "stream",
     "text": [
      "/n"
     ]
    },
    {
     "name": "stdout",
     "output_type": "stream",
     "text": [
      "📊 [CBIS-DDSM-0] Train: mAP50=0.0000, Recall=0.0000/n",
      "📊 [CBIS-DDSM-0] Val:   mAP50=0.0000, Recall=0.0000/n"
     ]
    },
    {
     "name": "stderr",
     "output_type": "stream",
     "text": [
      "/u001b[92mINFO /u001b[0m:      Sent reply/n",
      "/u001b[92mINFO /u001b[0m:      /n",
      "/u001b[92mINFO /u001b[0m:      Received: train message 966ff9bd-9656-4c86-8a88-8054514738f4/n"
     ]
    },
    {
     "name": "stdout",
     "output_type": "stream",
     "text": [
      "🚀 Training CBIS-DDSM client 0/n",
      "New https://pypi.org/project/ultralytics/8.3.108 available  Update with 'pip install -U ultralytics'/n",
      "Ultralytics 8.3.107  Python-3.11.9 torch-2.6.0+cu126 CUDA:0 (NVIDIA GeForce GTX 1660 SUPER, 6144MiB)/n",
      "/u001b[34m/u001b[1mengine//trainer: /u001b[0mtask=detect, mode=train, model=E://PFE//Flower code//yolo models//yolo11m_mass.pt, data=E://PFE//Flower code//data created//client_cbis_ddsm0//cbis_ddsm.yaml, epochs=1, time=None, patience=100, batch=1, imgsz=640, save=True, save_period=-1, cache=False, device=cuda, workers=0, project=None, name=train544, exist_ok=False, pretrained=True, optimizer=auto, verbose=False, seed=0, deterministic=True, single_cls=False, rect=False, cos_lr=False, close_mosaic=10, resume=False, amp=True, fraction=1.0, profile=False, freeze=None, multi_scale=False, overlap_mask=True, mask_ratio=4, dropout=0.0, val=True, split=val, save_json=False, conf=None, iou=0.7, max_det=300, half=False, dnn=False, plots=True, source=None, vid_stride=1, stream_buffer=False, visualize=False, augment=False, agnostic_nms=False, classes=None, retina_masks=False, embed=None, show=False, save_frames=False, save_txt=False, save_conf=False, save_crop=False, show_labels=True, show_conf=True, show_boxes=True, line_width=None, format=torchscript, keras=False, optimize=False, int8=False, dynamic=False, simplify=True, opset=None, workspace=None, nms=False, lr0=0.01, lrf=0.01, momentum=0.937, weight_decay=0.0005, warmup_epochs=3.0, warmup_momentum=0.8, warmup_bias_lr=0.0, box=7.5, cls=0.5, dfl=1.5, pose=12.0, kobj=1.0, nbs=64, hsv_h=0.015, hsv_s=0.7, hsv_v=0.4, degrees=0.0, translate=0.1, scale=0.5, shear=0.0, perspective=0.0, flipud=0.0, fliplr=0.5, bgr=0.0, mosaic=1.0, mixup=0.0, copy_paste=0.0, copy_paste_mode=flip, auto_augment=randaugment, erasing=0.4, crop_fraction=1.0, cfg=None, tracker=botsort.yaml, save_dir=runs//detect//train544/n",
      "/n",
      "                   from  n    params  module                                       arguments                     /n",
      "  0                  -1  1      1856  ultralytics.nn.modules.conv.Conv             [3, 64, 3, 2]                 /n",
      "  1                  -1  1     73984  ultralytics.nn.modules.conv.Conv             [64, 128, 3, 2]               /n",
      "  2                  -1  1    111872  ultralytics.nn.modules.block.C3k2            [128, 256, 1, True, 0.25]     /n",
      "  3                  -1  1    590336  ultralytics.nn.modules.conv.Conv             [256, 256, 3, 2]              /n",
      "  4                  -1  1    444928  ultralytics.nn.modules.block.C3k2            [256, 512, 1, True, 0.25]     /n",
      "  5                  -1  1   2360320  ultralytics.nn.modules.conv.Conv             [512, 512, 3, 2]              /n",
      "  6                  -1  1   1380352  ultralytics.nn.modules.block.C3k2            [512, 512, 1, True]           /n",
      "  7                  -1  1   2360320  ultralytics.nn.modules.conv.Conv             [512, 512, 3, 2]              /n",
      "  8                  -1  1   1380352  ultralytics.nn.modules.block.C3k2            [512, 512, 1, True]           /n",
      "  9                  -1  1    656896  ultralytics.nn.modules.block.SPPF            [512, 512, 5]                 /n",
      " 10                  -1  1    990976  ultralytics.nn.modules.block.C2PSA           [512, 512, 1]                 /n",
      " 11                  -1  1         0  torch.nn.modules.upsampling.Upsample         [None, 2, 'nearest']          /n",
      " 12             [-1, 6]  1         0  ultralytics.nn.modules.conv.Concat           [1]                           /n",
      " 13                  -1  1   1642496  ultralytics.nn.modules.block.C3k2            [1024, 512, 1, True]          /n",
      " 14                  -1  1         0  torch.nn.modules.upsampling.Upsample         [None, 2, 'nearest']          /n",
      " 15             [-1, 4]  1         0  ultralytics.nn.modules.conv.Concat           [1]                           /n",
      " 16                  -1  1    542720  ultralytics.nn.modules.block.C3k2            [1024, 256, 1, True]          /n",
      " 17                  -1  1    590336  ultralytics.nn.modules.conv.Conv             [256, 256, 3, 2]              /n",
      " 18            [-1, 13]  1         0  ultralytics.nn.modules.conv.Concat           [1]                           /n",
      " 19                  -1  1   1511424  ultralytics.nn.modules.block.C3k2            [768, 512, 1, True]           /n",
      " 20                  -1  1   2360320  ultralytics.nn.modules.conv.Conv             [512, 512, 3, 2]              /n",
      " 21            [-1, 10]  1         0  ultralytics.nn.modules.conv.Concat           [1]                           /n",
      " 22                  -1  1   1642496  ultralytics.nn.modules.block.C3k2            [1024, 512, 1, True]          /n",
      " 23        [16, 19, 22]  1   1412566  ultralytics.nn.modules.head.Detect           [2, [256, 512, 512]]          /n",
      "YOLO11m summary: 231 layers, 20,054,550 parameters, 20,054,534 gradients, 68.2 GFLOPs/n",
      "/n",
      "Transferred 119/649 items from pretrained weights/n",
      "Freezing layer 'model.23.dfl.conv.weight'/n",
      "/u001b[34m/u001b[1mAMP: /u001b[0mchecks failed . AMP training on NVIDIA GeForce GTX 1660 SUPER GPU may cause NaN losses or zero-mAP results, so AMP will be disabled during training./n"
     ]
    },
    {
     "name": "stderr",
     "output_type": "stream",
     "text": [
      "/u001b[34m/u001b[1mtrain: /u001b[0mScanning E://PFE//Flower code//data created//client_cbis_ddsm0//train//labels.cache... 4 images, 0 backgrounds, 0 corrupt: 100%|██████████| 4/4 [00:00<?, ?it/s]/n",
      "/u001b[34m/u001b[1mval: /u001b[0mScanning E://PFE//Flower code//data created//client_cbis_ddsm0//valid//labels.cache... 5 images, 0 backgrounds, 0 corrupt: 100%|██████████| 5/5 [00:00<?, ?it/s]/n"
     ]
    },
    {
     "name": "stdout",
     "output_type": "stream",
     "text": [
      "Plotting labels to runs//detect//train544//labels.jpg... /n",
      "/u001b[34m/u001b[1moptimizer:/u001b[0m 'optimizer=auto' found, ignoring 'lr0=0.01' and 'momentum=0.937' and determining best 'optimizer', 'lr0' and 'momentum' automatically... /n",
      "/u001b[34m/u001b[1moptimizer:/u001b[0m AdamW(lr=0.001667, momentum=0.9) with parameter groups 106 weight(decay=0.0), 113 weight(decay=0.0005), 112 bias(decay=0.0)/n",
      "Image sizes 640 train, 640 val/n",
      "Using 0 dataloader workers/n",
      "Logging results to /u001b[1mruns//detect//train544/u001b[0m/n",
      "Starting training for 1 epochs.../n",
      "/n",
      "      Epoch    GPU_mem   box_loss   cls_loss   dfl_loss  Instances       Size/n"
     ]
    },
    {
     "name": "stderr",
     "output_type": "stream",
     "text": [
      "        1/1      1.83G      3.212      9.109      1.952          1        640:  50%|█████     | 2/4 [00:33<00:32, 16.18s/it]"
     ]
    }
   ],
   "source": [
    "from client_cbisddsm import start_client/n",
    "import warnings/n",
    "warnings.filterwarnings(/"ignore/")/n",
    "/n",
    "start_client(client_id=0)/n"
   ]
  }
 ],
 "metadata": {
  "kernelspec": {
   "display_name": "Python 3",
   "language": "python",
   "name": "python3"
  },
  "language_info": {
   "codemirror_mode": {
    "name": "ipython",
    "version": 3
   },
   "file_extension": ".py",
   "mimetype": "text/x-python",
   "name": "python",
   "nbconvert_exporter": "python",
   "pygments_lexer": "ipython3",
   "version": "3.11.9"
  }
 },
 "nbformat": 4,
 "nbformat_minor": 5
}
