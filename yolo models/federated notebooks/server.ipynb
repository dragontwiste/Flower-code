{
 "cells": [
  {
   "cell_type": "code",
   "execution_count": null,
   "id": "6b86ad7e",
   "metadata": {},
   "outputs": [
    {
     "name": "stdout",
     "output_type": "stream",
     "text": [
      "YOLO11m summary (fused): 125 layers, 20,031,574 parameters, 0 gradients, 67.7 GFLOPs\n"
     ]
    },
    {
     "name": "stderr",
     "output_type": "stream",
     "text": [
      "\u001b[93mWARNING \u001b[0m:   DEPRECATED FEATURE: `DPFedAvgFixed` wrapper\n",
      "\n",
      "            This is a deprecated feature. It will be removed\n",
      "            entirely in future versions of Flower.\n",
      "        \n",
      "\u001b[93mWARNING \u001b[0m:   DEPRECATED FEATURE: flwr.server.start_server() is deprecated.\n",
      "\tInstead, use the `flower-superlink` CLI command to start a SuperLink as shown below:\n",
      "\n",
      "\t\t$ flower-superlink --insecure\n",
      "\n",
      "\tTo view usage and all available options, run:\n",
      "\n",
      "\t\t$ flower-superlink --help\n",
      "\n",
      "\tUsing `start_server()` is deprecated.\n",
      "\n",
      "            This is a deprecated feature. It will be removed\n",
      "            entirely in future versions of Flower.\n",
      "        \n",
      "\u001b[92mINFO \u001b[0m:      Starting Flower server, config: num_rounds=100, no round_timeout\n",
      "\u001b[92mINFO \u001b[0m:      Flower ECE: gRPC server running (100 rounds), SSL is disabled\n",
      "\u001b[92mINFO \u001b[0m:      [INIT]\n",
      "\u001b[92mINFO \u001b[0m:      Requesting initial parameters from one random client\n",
      "\u001b[92mINFO \u001b[0m:      Received initial parameters from one random client\n",
      "\u001b[92mINFO \u001b[0m:      Starting evaluation of initial global parameters\n",
      "\u001b[92mINFO \u001b[0m:      Evaluation returned no results (`None`)\n",
      "\u001b[92mINFO \u001b[0m:      \n",
      "\u001b[92mINFO \u001b[0m:      [ROUND 1]\n",
      "\u001b[92mINFO \u001b[0m:      configure_fit: strategy sampled 2 clients (out of 2)\n",
      "\u001b[92mINFO \u001b[0m:      aggregate_fit: received 2 results and 0 failures\n",
      "\u001b[93mWARNING \u001b[0m:   DEPRECATED FEATURE: `add_gaussian_noise` method\n",
      "\n",
      "            This is a deprecated feature. It will be removed\n",
      "            entirely in future versions of Flower.\n",
      "        \n",
      "\u001b[93mWARNING \u001b[0m:   DEPRECATED FEATURE: `add_gaussian_noise` method\n",
      "\n",
      "            This is a deprecated feature. It will be removed\n",
      "            entirely in future versions of Flower.\n",
      "        \n",
      "\u001b[93mWARNING \u001b[0m:   No fit_metrics_aggregation_fn provided\n"
     ]
    },
    {
     "name": "stdout",
     "output_type": "stream",
     "text": [
      "💾 Saved global model at: E:\\PFE\\Flower code\\yolo models\\global_model_round_1.pt\n",
      "Ultralytics 8.3.107  Python-3.11.9 torch-2.6.0+cu126 CUDA:0 (NVIDIA GeForce GTX 1660 SUPER, 6144MiB)\n"
     ]
    },
    {
     "name": "stderr",
     "output_type": "stream",
     "text": [
      "\u001b[34m\u001b[1mval: \u001b[0mScanning E:\\PFE\\Flower code\\data created\\client_cbis_ddsm0\\valid\\labels.cache... 5 images, 0 backgrounds, 0 corrupt: 100%|██████████| 5/5 [00:00<?, ?it/s]\n",
      "                 Class     Images  Instances      Box(P          R      mAP50  mAP50-95): 100%|██████████| 1/1 [00:11<00:00, 11.14s/it]\n"
     ]
    },
    {
     "name": "stdout",
     "output_type": "stream",
     "text": [
      "                   all          5          5          0          0          0          0\n",
      "               no_mass          5          5          0          0          0          0\n",
      "Speed: 2.6ms preprocess, 103.7ms inference, 0.0ms loss, 122.5ms postprocess per image\n",
      "Results saved to \u001b[1mruns\\detect\\val24\u001b[0m\n",
      "Ultralytics 8.3.107  Python-3.11.9 torch-2.6.0+cu126 CUDA:0 (NVIDIA GeForce GTX 1660 SUPER, 6144MiB)\n"
     ]
    },
    {
     "name": "stderr",
     "output_type": "stream",
     "text": [
      "\u001b[34m\u001b[1mval: \u001b[0mScanning E:\\PFE\\Flower code\\data created\\client_cbis_ddsm0\\train\\labels.cache... 4 images, 0 backgrounds, 0 corrupt: 100%|██████████| 4/4 [00:00<?, ?it/s]\n",
      "                 Class     Images  Instances      Box(P          R      mAP50  mAP50-95): 100%|██████████| 1/1 [00:16<00:00, 16.48s/it]\n"
     ]
    },
    {
     "name": "stdout",
     "output_type": "stream",
     "text": [
      "                   all          4          4          0          0          0          0\n",
      "               no_mass          4          4          0          0          0          0\n",
      "Speed: 27.1ms preprocess, 46.3ms inference, 0.0ms loss, 28.2ms postprocess per image\n",
      "Results saved to \u001b[1mruns\\detect\\val25\u001b[0m\n"
     ]
    },
    {
     "name": "stderr",
     "output_type": "stream",
     "text": [
      "\u001b[92mINFO \u001b[0m:      configure_evaluate: no clients selected, skipping evaluation\n",
      "\u001b[92mINFO \u001b[0m:      \n",
      "\u001b[92mINFO \u001b[0m:      [ROUND 2]\n",
      "\u001b[92mINFO \u001b[0m:      configure_fit: strategy sampled 2 clients (out of 2)\n"
     ]
    },
    {
     "name": "stdout",
     "output_type": "stream",
     "text": [
      "\n",
      "🌍 [Global model after round 1]\n",
      "Train:  mAP50=0.0000, Recall=0.0000\n",
      "Val:    mAP50=0.0000, Recall=0.0000\n",
      "\n"
     ]
    },
    {
     "name": "stderr",
     "output_type": "stream",
     "text": [
      "\u001b[92mINFO \u001b[0m:      aggregate_fit: received 2 results and 0 failures\n",
      "\u001b[93mWARNING \u001b[0m:   DEPRECATED FEATURE: `add_gaussian_noise` method\n",
      "\n",
      "            This is a deprecated feature. It will be removed\n",
      "            entirely in future versions of Flower.\n",
      "        \n",
      "\u001b[93mWARNING \u001b[0m:   DEPRECATED FEATURE: `add_gaussian_noise` method\n",
      "\n",
      "            This is a deprecated feature. It will be removed\n",
      "            entirely in future versions of Flower.\n",
      "        \n"
     ]
    },
    {
     "name": "stdout",
     "output_type": "stream",
     "text": [
      "💾 Saved global model at: E:\\PFE\\Flower code\\yolo models\\global_model_round_2.pt\n",
      "Ultralytics 8.3.107  Python-3.11.9 torch-2.6.0+cu126 CUDA:0 (NVIDIA GeForce GTX 1660 SUPER, 6144MiB)\n"
     ]
    },
    {
     "name": "stderr",
     "output_type": "stream",
     "text": [
      "\u001b[34m\u001b[1mval: \u001b[0mScanning E:\\PFE\\Flower code\\data created\\client_cbis_ddsm0\\valid\\labels.cache... 5 images, 0 backgrounds, 0 corrupt: 100%|██████████| 5/5 [00:00<?, ?it/s]\n",
      "                 Class     Images  Instances      Box(P          R      mAP50  mAP50-95): 100%|██████████| 1/1 [00:13<00:00, 13.62s/it]\n"
     ]
    },
    {
     "name": "stdout",
     "output_type": "stream",
     "text": [
      "                   all          5          5          0          0          0          0\n",
      "               no_mass          5          5          0          0          0          0\n",
      "Speed: 37.1ms preprocess, 33.1ms inference, 0.0ms loss, 46.8ms postprocess per image\n",
      "Results saved to \u001b[1mruns\\detect\\val26\u001b[0m\n",
      "Ultralytics 8.3.107  Python-3.11.9 torch-2.6.0+cu126 CUDA:0 (NVIDIA GeForce GTX 1660 SUPER, 6144MiB)\n"
     ]
    },
    {
     "name": "stderr",
     "output_type": "stream",
     "text": [
      "\u001b[34m\u001b[1mval: \u001b[0mScanning E:\\PFE\\Flower code\\data created\\client_cbis_ddsm0\\train\\labels.cache... 4 images, 0 backgrounds, 0 corrupt: 100%|██████████| 4/4 [00:00<?, ?it/s]\n",
      "                 Class     Images  Instances      Box(P          R      mAP50  mAP50-95): 100%|██████████| 1/1 [00:18<00:00, 18.65s/it]\n",
      "Exception in thread Thread-21 (plot_images):\n",
      "Traceback (most recent call last):\n",
      "  File \"c:\\Users\\never\\AppData\\Local\\Programs\\Python\\Python311\\Lib\\threading.py\", line 1045, in _bootstrap_inner\n",
      "    self.run()\n",
      "  File \"C:\\Users\\never\\AppData\\Roaming\\Python\\Python311\\site-packages\\ipykernel\\ipkernel.py\", line 766, in run_closure\n",
      "    _threading_Thread_run(self)\n",
      "  File \"c:\\Users\\never\\AppData\\Local\\Programs\\Python\\Python311\\Lib\\threading.py\", line 982, in run\n",
      "    self._target(*self._args, **self._kwargs)\n",
      "  File \"c:\\Users\\never\\AppData\\Local\\Programs\\Python\\Python311\\Lib\\site-packages\\ultralytics\\utils\\plotting.py\", line 747, in plot_images\n",
      "    annotator.box_label(box, label, color=color, rotated=is_obb)\n",
      "  File \"c:\\Users\\never\\AppData\\Local\\Programs\\Python\\Python311\\Lib\\site-packages\\ultralytics\\utils\\plotting.py\", line 302, in box_label\n",
      "    self.draw.rectangle(box, width=self.lw, outline=color)  # box\n",
      "    ^^^^^^^^^^^^^^^^^^^^^^^^^^^^^^^^^^^^^^^^^^^^^^^^^^^^^^\n",
      "  File \"C:\\Users\\never\\AppData\\Roaming\\Python\\Python311\\site-packages\\PIL\\ImageDraw.py\", line 413, in rectangle\n",
      "    self.draw.draw_rectangle(xy, ink, 0, width)\n",
      "ValueError: x1 must be greater than or equal to x0\n"
     ]
    },
    {
     "name": "stdout",
     "output_type": "stream",
     "text": [
      "                   all          4          4          0          0          0          0\n",
      "               no_mass          4          4          0          0          0          0\n",
      "Speed: 1.7ms preprocess, 54.7ms inference, 0.0ms loss, 67.1ms postprocess per image\n",
      "Results saved to \u001b[1mruns\\detect\\val27\u001b[0m\n",
      "\n",
      "🌍 [Global model after round 2]\n",
      "Train:  mAP50=0.0000, Recall=0.0000\n",
      "Val:    mAP50=0.0000, Recall=0.0000\n",
      "\n"
     ]
    },
    {
     "name": "stderr",
     "output_type": "stream",
     "text": [
      "\u001b[92mINFO \u001b[0m:      configure_evaluate: no clients selected, skipping evaluation\n",
      "\u001b[92mINFO \u001b[0m:      \n",
      "\u001b[92mINFO \u001b[0m:      [ROUND 3]\n",
      "\u001b[92mINFO \u001b[0m:      configure_fit: strategy sampled 2 clients (out of 2)\n",
      "\u001b[92mINFO \u001b[0m:      aggregate_fit: received 2 results and 0 failures\n",
      "\u001b[93mWARNING \u001b[0m:   DEPRECATED FEATURE: `add_gaussian_noise` method\n",
      "\n",
      "            This is a deprecated feature. It will be removed\n",
      "            entirely in future versions of Flower.\n",
      "        \n",
      "\u001b[93mWARNING \u001b[0m:   DEPRECATED FEATURE: `add_gaussian_noise` method\n",
      "\n",
      "            This is a deprecated feature. It will be removed\n",
      "            entirely in future versions of Flower.\n",
      "        \n"
     ]
    },
    {
     "name": "stdout",
     "output_type": "stream",
     "text": [
      "💾 Saved global model at: E:\\PFE\\Flower code\\yolo models\\global_model_round_3.pt\n",
      "Ultralytics 8.3.107  Python-3.11.9 torch-2.6.0+cu126 CUDA:0 (NVIDIA GeForce GTX 1660 SUPER, 6144MiB)\n"
     ]
    },
    {
     "name": "stderr",
     "output_type": "stream",
     "text": [
      "\u001b[34m\u001b[1mval: \u001b[0mScanning E:\\PFE\\Flower code\\data created\\client_cbis_ddsm0\\valid\\labels.cache... 5 images, 0 backgrounds, 0 corrupt: 100%|██████████| 5/5 [00:00<?, ?it/s]\n",
      "                 Class     Images  Instances      Box(P          R      mAP50  mAP50-95): 100%|██████████| 1/1 [00:13<00:00, 13.99s/it]\n",
      "Exception in thread Thread-25 (plot_images):\n",
      "Traceback (most recent call last):\n",
      "  File \"c:\\Users\\never\\AppData\\Local\\Programs\\Python\\Python311\\Lib\\threading.py\", line 1045, in _bootstrap_inner\n",
      "    self.run()\n",
      "  File \"C:\\Users\\never\\AppData\\Roaming\\Python\\Python311\\site-packages\\ipykernel\\ipkernel.py\", line 766, in run_closure\n",
      "    _threading_Thread_run(self)\n",
      "  File \"c:\\Users\\never\\AppData\\Local\\Programs\\Python\\Python311\\Lib\\threading.py\", line 982, in run\n",
      "    self._target(*self._args, **self._kwargs)\n",
      "  File \"c:\\Users\\never\\AppData\\Local\\Programs\\Python\\Python311\\Lib\\site-packages\\ultralytics\\utils\\plotting.py\", line 747, in plot_images\n",
      "    annotator.box_label(box, label, color=color, rotated=is_obb)\n",
      "  File \"c:\\Users\\never\\AppData\\Local\\Programs\\Python\\Python311\\Lib\\site-packages\\ultralytics\\utils\\plotting.py\", line 302, in box_label\n",
      "    self.draw.rectangle(box, width=self.lw, outline=color)  # box\n",
      "    ^^^^^^^^^^^^^^^^^^^^^^^^^^^^^^^^^^^^^^^^^^^^^^^^^^^^^^\n",
      "  File \"C:\\Users\\never\\AppData\\Roaming\\Python\\Python311\\site-packages\\PIL\\ImageDraw.py\", line 413, in rectangle\n",
      "    self.draw.draw_rectangle(xy, ink, 0, width)\n",
      "ValueError: x1 must be greater than or equal to x0\n"
     ]
    },
    {
     "name": "stdout",
     "output_type": "stream",
     "text": [
      "                   all          5          5          0          0          0          0\n",
      "               no_mass          5          5          0          0          0          0\n",
      "Speed: 35.7ms preprocess, 40.2ms inference, 0.0ms loss, 85.1ms postprocess per image\n",
      "Results saved to \u001b[1mruns\\detect\\val28\u001b[0m\n",
      "Ultralytics 8.3.107  Python-3.11.9 torch-2.6.0+cu126 CUDA:0 (NVIDIA GeForce GTX 1660 SUPER, 6144MiB)\n"
     ]
    },
    {
     "name": "stderr",
     "output_type": "stream",
     "text": [
      "\u001b[34m\u001b[1mval: \u001b[0mScanning E:\\PFE\\Flower code\\data created\\client_cbis_ddsm0\\train\\labels.cache... 4 images, 0 backgrounds, 0 corrupt: 100%|██████████| 4/4 [00:00<?, ?it/s]\n"
     ]
    }
   ],
   "source": [
    "# server.py\n",
    "\n",
    "import flwr as fl\n",
    "from typing import Dict, List, Tuple\n",
    "import torch\n",
    "from ultralytics import YOLO\n",
    "import warnings\n",
    "from flwr.common import parameters_to_ndarrays\n",
    "from collections import OrderedDict\n",
    "from flwr.server.strategy import DPFedAvgFixed, FedAvg, DPFedAvgAdaptive\n",
    "\n",
    "\n",
    "\n",
    "# ✅ Global model\n",
    "model = YOLO(r\"E:\\PFE\\Flower code\\yolo models\\yolo11m_mass.pt\", task=\"detect\")\n",
    "model.model.nc = 2\n",
    "model.model.names = {0: \"no_mass\", 1: \"mass\"}\n",
    "model.fuse()\n",
    "model.model = model.model.to(\"cuda\")\n",
    "\n",
    "\n",
    "# ✅ Path to validation YAML (use any one full dataset)\n",
    "VAL_YAML = r\"E:\\PFE\\Flower code\\data created\\client_cbis_ddsm0\\cbis_ddsm.yaml\"\n",
    "\n",
    "\n",
    "# ✅ Helper: Set weights\n",
    "def set_weights(weights):\n",
    "    state_dict = OrderedDict({\n",
    "        k: torch.tensor(v) for k, v in zip(model.model.state_dict().keys(), weights)\n",
    "    })\n",
    "    with torch.inference_mode():\n",
    "        model.model.load_state_dict(state_dict, strict=True)\n",
    "\n",
    "\n",
    "\n",
    "# ✅ Helper: Get weights\n",
    "def get_weights():\n",
    "    return [val.cpu().numpy() for _, val in model.model.named_parameters()]\n",
    "\n",
    "# ✅ Helper: Save model\n",
    "def save_model(round_num):\n",
    "    model_path = fr\"E:\\PFE\\Flower code\\yolo models\\global_model_round_{round_num}.pt\"\n",
    "    model.save(model_path)\n",
    "    print(f\"💾 Saved global model at: {model_path}\")\n",
    "\n",
    "\n",
    "\n",
    "# ✅ Custom strategy\n",
    "class YOLOStrategy(FedAvg):\n",
    "    def configure_evaluate(self, server_round, parameters, client_manager):\n",
    "        return []\n",
    "\n",
    "    def evaluate(self, rnd, parameters):\n",
    "        return None\n",
    "\n",
    "\n",
    "\n",
    "    def aggregate_fit(\n",
    "        self,\n",
    "        rnd: int,\n",
    "        results: List[Tuple[fl.server.client_proxy.ClientProxy, fl.common.FitRes]],\n",
    "        failures: List[BaseException]\n",
    "    ) -> Tuple[List[torch.Tensor], Dict]:\n",
    "        aggregated_weights, metrics = super().aggregate_fit(rnd, results, failures)\n",
    "\n",
    "        if aggregated_weights is not None:\n",
    "            weights_list = parameters_to_ndarrays(aggregated_weights)\n",
    "            set_weights(weights_list)\n",
    "\n",
    "            # ✅ Save global model\n",
    "            save_model(rnd)\n",
    "\n",
    "            # ✅ Evaluate on central validation and train set\n",
    "            metrics_val = model.val(data=VAL_YAML, split=\"val\")\n",
    "            metrics_train = model.val(data=VAL_YAML, split=\"train\")\n",
    "\n",
    "            print(f\"\\n🌍 [Global model after round {rnd}]\")\n",
    "            print(f\"Train:  mAP50={metrics_train.box.map50:.4f}, Recall={metrics_train.box.mr:.4f}\")\n",
    "            print(f\"Val:    mAP50={metrics_val.box.map50:.4f}, Recall={metrics_val.box.mr:.4f}\\n\")\n",
    "\n",
    "        return aggregated_weights, metrics or {}\n",
    "    \n",
    "\n",
    "base_strategy = YOLOStrategy(\n",
    "fraction_fit=1.0,\n",
    "min_fit_clients=11,\n",
    "min_available_clients=11,\n",
    ")\n",
    "strategy = DPFedAvgFixed(strategy=base_strategy,\n",
    "                         noise_multiplier=0.5,\n",
    "                         clip_norm = 1.0,\n",
    "                         num_sampled_clients=11\n",
    "                        )\n",
    "\n",
    "\n",
    "# ✅ Start server\n",
    "fl.server.start_server(\n",
    "    server_address=\"localhost:9675\",\n",
    "    config=fl.server.ServerConfig(num_rounds=100, round_timeout= None),\n",
    "    strategy = strategy\n",
    ")\n"
   ]
  },
  {
   "cell_type": "code",
   "execution_count": null,
   "id": "52388ee3",
   "metadata": {},
   "outputs": [],
   "source": []
  }
 ],
 "metadata": {
  "kernelspec": {
   "display_name": "Python 3",
   "language": "python",
   "name": "python3"
  },
  "language_info": {
   "codemirror_mode": {
    "name": "ipython",
    "version": 3
   },
   "file_extension": ".py",
   "mimetype": "text/x-python",
   "name": "python",
   "nbconvert_exporter": "python",
   "pygments_lexer": "ipython3",
   "version": "3.11.9"
  }
 },
 "nbformat": 4,
 "nbformat_minor": 5
}
