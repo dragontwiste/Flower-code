{
 "cells": [
  {
   "cell_type": "code",
   "execution_count": null,
   "id": "0a1e6a51",
   "metadata": {},
   "outputs": [],
   "source": [
    "from client_cbisddsm import start_client\n",
    "import warnings\n",
    "warnings.filterwarnings(\"ignore\")\n",
    "\n",
    "start_client(client_id=1)\n"
   ]
  }
 ],
 "metadata": {
  "kernelspec": {
   "display_name": "Python 3",
   "language": "python",
   "name": "python3"
  },
  "language_info": {
   "name": "python",
   "version": "3.11.9"
  }
 },
 "nbformat": 4,
 "nbformat_minor": 5
}
